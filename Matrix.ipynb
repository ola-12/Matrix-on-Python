{
 "cells": [
  {
   "cell_type": "code",
   "execution_count": 1,
   "id": "5b4e26b7-33fa-4ac6-97af-ab06da456096",
   "metadata": {},
   "outputs": [],
   "source": [
    "### Defining Matrix"
   ]
  },
  {
   "cell_type": "code",
   "execution_count": 3,
   "id": "b4aafaa5-c34b-4306-9f1d-035b06ae6051",
   "metadata": {},
   "outputs": [],
   "source": [
    "import numpy as np"
   ]
  },
  {
   "cell_type": "code",
   "execution_count": 4,
   "id": "fc0bb1ae-942c-4380-8c36-8c85a6b8c31a",
   "metadata": {},
   "outputs": [
    {
     "data": {
      "text/plain": [
       "array([[1, 2, 3],\n",
       "       [4, 5, 6]])"
      ]
     },
     "execution_count": 4,
     "metadata": {},
     "output_type": "execute_result"
    }
   ],
   "source": [
    "x = np.array([[1, 2, 3], [4, 5, 6]])\n",
    "x"
   ]
  },
  {
   "cell_type": "code",
   "execution_count": 5,
   "id": "0e13581a-6bd3-4a5d-87a6-cfb0f5e21187",
   "metadata": {},
   "outputs": [
    {
     "data": {
      "text/plain": [
       "(2, 3)"
      ]
     },
     "execution_count": 5,
     "metadata": {},
     "output_type": "execute_result"
    }
   ],
   "source": [
    "x.shape"
   ]
  },
  {
   "cell_type": "code",
   "execution_count": 7,
   "id": "b1ea079b-bcac-4e54-8074-35fb5972c490",
   "metadata": {},
   "outputs": [
    {
     "data": {
      "text/plain": [
       "array([[2, 8, 4],\n",
       "       [6, 6, 2]])"
      ]
     },
     "execution_count": 7,
     "metadata": {},
     "output_type": "execute_result"
    }
   ],
   "source": [
    "np.random.randint(0, 10,(2, 3))"
   ]
  },
  {
   "cell_type": "code",
   "execution_count": 10,
   "id": "bf8d9ec1-ca0f-4ee8-bca0-51e85341b04c",
   "metadata": {},
   "outputs": [
    {
     "data": {
      "text/plain": [
       "array([[2, 2, 6],\n",
       "       [1, 5, 7],\n",
       "       [6, 5, 8]])"
      ]
     },
     "execution_count": 10,
     "metadata": {},
     "output_type": "execute_result"
    }
   ],
   "source": [
    "np.random.randint(1, 10,(3, 3))"
   ]
  },
  {
   "cell_type": "code",
   "execution_count": 12,
   "id": "243aeba3-b387-4982-b018-717bb552978e",
   "metadata": {},
   "outputs": [],
   "source": [
    "##Addition of Matrices"
   ]
  },
  {
   "cell_type": "code",
   "execution_count": 14,
   "id": "9c29e4d3-71fb-4a4f-b131-dd07b11c2c2f",
   "metadata": {},
   "outputs": [
    {
     "name": "stdout",
     "output_type": "stream",
     "text": [
      "[[90 48 16 47]\n",
      " [68 51 37 70]\n",
      " [ 4 40 85 85]\n",
      " [94 15  6 68]\n",
      " [21 57 71 31]]\n",
      "[[99 10 71 19]\n",
      " [ 9 70 79 77]\n",
      " [48 88 75 63]\n",
      " [36 91 31 82]\n",
      " [51 18 79 41]]\n"
     ]
    }
   ],
   "source": [
    "a = np.random.randint(1, 100,(5, 4))\n",
    "b = np.random.randint(1, 100,(5, 4))\n",
    "print(a)\n",
    "print(b)\n"
   ]
  },
  {
   "cell_type": "code",
   "execution_count": 15,
   "id": "11154560-bfeb-46de-8853-02291166e9ef",
   "metadata": {},
   "outputs": [
    {
     "data": {
      "text/plain": [
       "array([[189,  58,  87,  66],\n",
       "       [ 77, 121, 116, 147],\n",
       "       [ 52, 128, 160, 148],\n",
       "       [130, 106,  37, 150],\n",
       "       [ 72,  75, 150,  72]])"
      ]
     },
     "execution_count": 15,
     "metadata": {},
     "output_type": "execute_result"
    }
   ],
   "source": [
    "a + b"
   ]
  },
  {
   "cell_type": "code",
   "execution_count": 18,
   "id": "16aceeb9-7395-498a-a3bb-d350428ea624",
   "metadata": {},
   "outputs": [],
   "source": [
    "###Subtraction of Matrices"
   ]
  },
  {
   "cell_type": "code",
   "execution_count": 19,
   "id": "50d4eb08-789d-47ed-9109-f0a8860ba1b9",
   "metadata": {},
   "outputs": [
    {
     "data": {
      "text/plain": [
       "array([[ -9,  38, -55,  28],\n",
       "       [ 59, -19, -42,  -7],\n",
       "       [-44, -48,  10,  22],\n",
       "       [ 58, -76, -25, -14],\n",
       "       [-30,  39,  -8, -10]])"
      ]
     },
     "execution_count": 19,
     "metadata": {},
     "output_type": "execute_result"
    }
   ],
   "source": [
    "a - b"
   ]
  },
  {
   "cell_type": "code",
   "execution_count": 20,
   "id": "70b57a07-91fc-496d-a79e-7a9931f80927",
   "metadata": {},
   "outputs": [],
   "source": [
    "###Division of Matrices"
   ]
  },
  {
   "cell_type": "code",
   "execution_count": 21,
   "id": "caf043a7-288e-490e-ae79-e917a2a5667a",
   "metadata": {},
   "outputs": [
    {
     "data": {
      "text/plain": [
       "array([[0.90909091, 4.8       , 0.22535211, 2.47368421],\n",
       "       [7.55555556, 0.72857143, 0.46835443, 0.90909091],\n",
       "       [0.08333333, 0.45454545, 1.13333333, 1.34920635],\n",
       "       [2.61111111, 0.16483516, 0.19354839, 0.82926829],\n",
       "       [0.41176471, 3.16666667, 0.89873418, 0.75609756]])"
      ]
     },
     "execution_count": 21,
     "metadata": {},
     "output_type": "execute_result"
    }
   ],
   "source": [
    "a / b"
   ]
  },
  {
   "cell_type": "code",
   "execution_count": 22,
   "id": "561c89b7-f438-4b80-b79e-4392fa50c264",
   "metadata": {},
   "outputs": [],
   "source": [
    "###Multiplication ... Hadamard Multiplication"
   ]
  },
  {
   "cell_type": "code",
   "execution_count": 23,
   "id": "5bf3b419-5d54-40cb-a4f0-1b8d83191510",
   "metadata": {},
   "outputs": [
    {
     "data": {
      "text/plain": [
       "array([[8910,  480, 1136,  893],\n",
       "       [ 612, 3570, 2923, 5390],\n",
       "       [ 192, 3520, 6375, 5355],\n",
       "       [3384, 1365,  186, 5576],\n",
       "       [1071, 1026, 5609, 1271]])"
      ]
     },
     "execution_count": 23,
     "metadata": {},
     "output_type": "execute_result"
    }
   ],
   "source": [
    "a * b"
   ]
  },
  {
   "cell_type": "code",
   "execution_count": 24,
   "id": "70cdf554-caba-42ea-9378-bf53a6fda76a",
   "metadata": {},
   "outputs": [],
   "source": [
    "###More on Hadamard Multiplication "
   ]
  },
  {
   "cell_type": "code",
   "execution_count": 25,
   "id": "92ff38d2-297d-4121-87fc-54aa81b7c0c3",
   "metadata": {},
   "outputs": [
    {
     "name": "stdout",
     "output_type": "stream",
     "text": [
      "[[5 6]\n",
      " [2 8]]\n",
      "[[6 7]\n",
      " [2 6]]\n"
     ]
    }
   ],
   "source": [
    "a = np.random.randint(1, 10,(2, 2))\n",
    "b = np.random.randint(1, 10,(2, 2))\n",
    "print(a)\n",
    "print(b)"
   ]
  },
  {
   "cell_type": "code",
   "execution_count": 26,
   "id": "60202f48-cc5c-458d-8f6f-a25d41389a17",
   "metadata": {},
   "outputs": [
    {
     "data": {
      "text/plain": [
       "array([[30, 42],\n",
       "       [ 4, 48]])"
      ]
     },
     "execution_count": 26,
     "metadata": {},
     "output_type": "execute_result"
    }
   ],
   "source": [
    "a * b"
   ]
  },
  {
   "cell_type": "code",
   "execution_count": 27,
   "id": "ff69a9c8-abcb-4de1-8d91-9b8de4209e07",
   "metadata": {},
   "outputs": [],
   "source": [
    "###Matrix Multiplication or dot product or vector multiplication"
   ]
  },
  {
   "cell_type": "code",
   "execution_count": 28,
   "id": "a6e4f069-a972-40af-86b1-d318afc7bc39",
   "metadata": {},
   "outputs": [
    {
     "data": {
      "text/plain": [
       "array([[5, 6],\n",
       "       [2, 8]])"
      ]
     },
     "execution_count": 28,
     "metadata": {},
     "output_type": "execute_result"
    }
   ],
   "source": [
    "a"
   ]
  },
  {
   "cell_type": "code",
   "execution_count": 29,
   "id": "40a1d754-bb58-460c-8678-0470b475d416",
   "metadata": {},
   "outputs": [
    {
     "data": {
      "text/plain": [
       "array([[6, 7],\n",
       "       [2, 6]])"
      ]
     },
     "execution_count": 29,
     "metadata": {},
     "output_type": "execute_result"
    }
   ],
   "source": [
    "b"
   ]
  },
  {
   "cell_type": "code",
   "execution_count": 30,
   "id": "317a7c4e-8f0a-47e1-b7fc-436fd898b0c3",
   "metadata": {},
   "outputs": [
    {
     "data": {
      "text/plain": [
       "array([[42, 71],\n",
       "       [28, 62]])"
      ]
     },
     "execution_count": 30,
     "metadata": {},
     "output_type": "execute_result"
    }
   ],
   "source": [
    "np.matmul(a, b)"
   ]
  },
  {
   "cell_type": "code",
   "execution_count": 1,
   "id": "de426a2a-a716-4c56-ac1b-571686f488dd",
   "metadata": {},
   "outputs": [],
   "source": [
    "##other way to write multiplication in python"
   ]
  },
  {
   "cell_type": "code",
   "execution_count": 3,
   "id": "c3908328-2a92-489c-bbc3-bbbfd3c08247",
   "metadata": {},
   "outputs": [],
   "source": [
    "import numpy as np"
   ]
  },
  {
   "cell_type": "code",
   "execution_count": 4,
   "id": "9fd5e618-366b-40fa-b939-e1fbd36cd183",
   "metadata": {},
   "outputs": [
    {
     "name": "stdout",
     "output_type": "stream",
     "text": [
      "[[9 3]\n",
      " [9 5]]\n",
      "[[7 3]\n",
      " [1 7]]\n"
     ]
    }
   ],
   "source": [
    "a = np.random.randint(1, 10,(2, 2))\n",
    "b = np.random.randint(1, 10,(2, 2))\n",
    "print(a)\n",
    "print(b)"
   ]
  },
  {
   "cell_type": "code",
   "execution_count": 5,
   "id": "91f74bc7-f8ef-4ae5-9a28-fbb9d5398ace",
   "metadata": {},
   "outputs": [
    {
     "data": {
      "text/plain": [
       "array([[9, 3],\n",
       "       [9, 5]])"
      ]
     },
     "execution_count": 5,
     "metadata": {},
     "output_type": "execute_result"
    }
   ],
   "source": [
    "a"
   ]
  },
  {
   "cell_type": "code",
   "execution_count": 7,
   "id": "2a7e63da-d6f0-4337-99e7-2cbf77971b8e",
   "metadata": {},
   "outputs": [
    {
     "data": {
      "text/plain": [
       "array([[7, 3],\n",
       "       [1, 7]])"
      ]
     },
     "execution_count": 7,
     "metadata": {},
     "output_type": "execute_result"
    }
   ],
   "source": [
    "b"
   ]
  },
  {
   "cell_type": "code",
   "execution_count": 8,
   "id": "9711869c-02f9-40c2-831c-d7b9f0fd86b9",
   "metadata": {},
   "outputs": [
    {
     "data": {
      "text/plain": [
       "array([[66, 48],\n",
       "       [68, 62]])"
      ]
     },
     "execution_count": 8,
     "metadata": {},
     "output_type": "execute_result"
    }
   ],
   "source": [
    "np.matmul(a, b)"
   ]
  },
  {
   "cell_type": "code",
   "execution_count": 9,
   "id": "3fb004bd-fdea-4a82-a138-3eb75b7cd7ba",
   "metadata": {},
   "outputs": [],
   "source": [
    "###Other way of multiplying matrices"
   ]
  },
  {
   "cell_type": "code",
   "execution_count": 10,
   "id": "21b981ef-b71e-4b97-9da4-511b0c8ca079",
   "metadata": {},
   "outputs": [
    {
     "data": {
      "text/plain": [
       "array([[66, 48],\n",
       "       [68, 62]])"
      ]
     },
     "execution_count": 10,
     "metadata": {},
     "output_type": "execute_result"
    }
   ],
   "source": [
    "a @ b"
   ]
  },
  {
   "cell_type": "code",
   "execution_count": 11,
   "id": "99c5fd36-8132-4b1a-977a-beec70b5a563",
   "metadata": {},
   "outputs": [
    {
     "data": {
      "text/plain": [
       "array([[66, 48],\n",
       "       [68, 62]])"
      ]
     },
     "execution_count": 11,
     "metadata": {},
     "output_type": "execute_result"
    }
   ],
   "source": [
    "a.dot(b)"
   ]
  },
  {
   "cell_type": "code",
   "execution_count": 21,
   "id": "6705d6b6-7ea1-4981-876f-0194e93841fc",
   "metadata": {},
   "outputs": [],
   "source": [
    "###matrix vector multiplication"
   ]
  },
  {
   "cell_type": "code",
   "execution_count": 5,
   "id": "222dd708-555d-4d81-82cb-7cf454afb435",
   "metadata": {},
   "outputs": [],
   "source": [
    "import numpy as np"
   ]
  },
  {
   "cell_type": "code",
   "execution_count": 6,
   "id": "77d16533-c216-44d0-ad43-7c03feb75717",
   "metadata": {},
   "outputs": [
    {
     "data": {
      "text/plain": [
       "array([[19, 39, 44, 39],\n",
       "       [72, 66, 18, 74],\n",
       "       [72, 71, 37, 72],\n",
       "       [16, 46, 57, 60]])"
      ]
     },
     "execution_count": 6,
     "metadata": {},
     "output_type": "execute_result"
    }
   ],
   "source": [
    "a = np.random.randint(10,100,(4,4))\n",
    "a\n",
    "                    "
   ]
  },
  {
   "cell_type": "code",
   "execution_count": 10,
   "id": "421ce389-ae41-4e4b-a98c-db78961630c9",
   "metadata": {},
   "outputs": [
    {
     "data": {
      "text/plain": [
       "array([2, 3, 4, 5])"
      ]
     },
     "execution_count": 10,
     "metadata": {},
     "output_type": "execute_result"
    }
   ],
   "source": [
    "b = np.array([2, 3, 4, 5])\n",
    "b"
   ]
  },
  {
   "cell_type": "code",
   "execution_count": 11,
   "id": "72360e5c-f23a-4388-86ef-be6b44ca6e3b",
   "metadata": {},
   "outputs": [
    {
     "data": {
      "text/plain": [
       "array([526, 784, 865, 698])"
      ]
     },
     "execution_count": 11,
     "metadata": {},
     "output_type": "execute_result"
    }
   ],
   "source": [
    "op_vec = a.dot(b)\n",
    "op_vec"
   ]
  },
  {
   "cell_type": "code",
   "execution_count": 12,
   "id": "cf678808-c7ee-42cb-8af7-148bcb8c741c",
   "metadata": {},
   "outputs": [
    {
     "data": {
      "text/plain": [
       "array([526, 784, 865, 698])"
      ]
     },
     "execution_count": 12,
     "metadata": {},
     "output_type": "execute_result"
    }
   ],
   "source": [
    "op_vec = a @ b\n",
    "op_vec"
   ]
  },
  {
   "cell_type": "code",
   "execution_count": 13,
   "id": "5be03a51-2a44-4059-a10a-ea6762d524e1",
   "metadata": {},
   "outputs": [],
   "source": [
    "##Matrix Scalar Multiplication"
   ]
  },
  {
   "cell_type": "code",
   "execution_count": 14,
   "id": "e357b448-25e7-48f2-ac8e-c5a0612c0863",
   "metadata": {},
   "outputs": [
    {
     "data": {
      "text/plain": [
       "array([[19, 39, 44, 39],\n",
       "       [72, 66, 18, 74],\n",
       "       [72, 71, 37, 72],\n",
       "       [16, 46, 57, 60]])"
      ]
     },
     "execution_count": 14,
     "metadata": {},
     "output_type": "execute_result"
    }
   ],
   "source": [
    "a"
   ]
  },
  {
   "cell_type": "code",
   "execution_count": 15,
   "id": "b4cd28c0-806b-4c5f-81de-68424a703513",
   "metadata": {},
   "outputs": [
    {
     "data": {
      "text/plain": [
       "array([[ 38,  78,  88,  78],\n",
       "       [144, 132,  36, 148],\n",
       "       [144, 142,  74, 144],\n",
       "       [ 32,  92, 114, 120]])"
      ]
     },
     "execution_count": 15,
     "metadata": {},
     "output_type": "execute_result"
    }
   ],
   "source": [
    "2 * a"
   ]
  },
  {
   "cell_type": "code",
   "execution_count": 16,
   "id": "c4d40b9b-025e-418c-9147-42887690b561",
   "metadata": {},
   "outputs": [],
   "source": [
    "###Creating Types of Matrices"
   ]
  },
  {
   "cell_type": "code",
   "execution_count": 17,
   "id": "f558c445-fb94-4aa8-88a9-aa5eb98f759b",
   "metadata": {},
   "outputs": [],
   "source": [
    "##Square Matrices that is m=n or n=m matrix of order m*m or n*n"
   ]
  },
  {
   "cell_type": "code",
   "execution_count": 18,
   "id": "98ba350a-403c-46cf-aa4c-2136f6afb9e1",
   "metadata": {},
   "outputs": [
    {
     "data": {
      "text/plain": [
       "array([[19, 39, 44, 39],\n",
       "       [72, 66, 18, 74],\n",
       "       [72, 71, 37, 72],\n",
       "       [16, 46, 57, 60]])"
      ]
     },
     "execution_count": 18,
     "metadata": {},
     "output_type": "execute_result"
    }
   ],
   "source": [
    "a"
   ]
  },
  {
   "cell_type": "code",
   "execution_count": 20,
   "id": "89503c46-d5cf-4ae2-98de-22956e1785f7",
   "metadata": {},
   "outputs": [],
   "source": [
    "##Symmetric Matrix"
   ]
  },
  {
   "cell_type": "code",
   "execution_count": 23,
   "id": "56505089-d464-43f8-906e-c2684a184f16",
   "metadata": {},
   "outputs": [
    {
     "data": {
      "text/plain": [
       "array([[1, 2, 3, 4, 5],\n",
       "       [2, 1, 2, 3, 4],\n",
       "       [3, 2, 1, 2, 3],\n",
       "       [4, 3, 2, 1, 2],\n",
       "       [5, 4, 3, 2, 1]])"
      ]
     },
     "execution_count": 23,
     "metadata": {},
     "output_type": "execute_result"
    }
   ],
   "source": [
    "a = np.array([[1,2,3,4,5],[2,1,2,3,4],[3,2,1,2,3],[4,3,2,1,2],[5,4,3,2,1]])\n",
    "a"
   ]
  },
  {
   "cell_type": "code",
   "execution_count": null,
   "id": "16858d97-2297-4c4d-a619-27f3a6f0d44e",
   "metadata": {},
   "outputs": [],
   "source": [
    "###Triangular Matrix"
   ]
  },
  {
   "cell_type": "code",
   "execution_count": 24,
   "id": "6c18bc39-0e77-461b-9282-1e881b9a5989",
   "metadata": {},
   "outputs": [
    {
     "data": {
      "text/plain": [
       "array([[1, 2, 3],\n",
       "       [1, 2, 3],\n",
       "       [1, 2, 3]])"
      ]
     },
     "execution_count": 24,
     "metadata": {},
     "output_type": "execute_result"
    }
   ],
   "source": [
    "a = np.array([[1,2,3],[1,2,3],[1,2,3]])\n",
    "a"
   ]
  },
  {
   "cell_type": "code",
   "execution_count": null,
   "id": "2ca7deba-21e1-4f28-8c72-15822f3d597a",
   "metadata": {},
   "outputs": [],
   "source": [
    "###Upper Triangular Marix"
   ]
  },
  {
   "cell_type": "code",
   "execution_count": 26,
   "id": "28e523e8-2d09-4548-bbab-88e492d9aa88",
   "metadata": {},
   "outputs": [
    {
     "data": {
      "text/plain": [
       "array([[1, 2, 3],\n",
       "       [0, 2, 3],\n",
       "       [0, 0, 3]])"
      ]
     },
     "execution_count": 26,
     "metadata": {},
     "output_type": "execute_result"
    }
   ],
   "source": [
    "np.triu(a)"
   ]
  },
  {
   "cell_type": "code",
   "execution_count": null,
   "id": "1659ed17-8a87-4226-a2e9-4b1b20f05787",
   "metadata": {},
   "outputs": [],
   "source": [
    "###Lower Triangular Matrix"
   ]
  },
  {
   "cell_type": "code",
   "execution_count": 27,
   "id": "6c4f4f27-72fb-4afb-b816-349925b6abb8",
   "metadata": {},
   "outputs": [
    {
     "data": {
      "text/plain": [
       "array([[1, 0, 0],\n",
       "       [1, 2, 0],\n",
       "       [1, 2, 3]])"
      ]
     },
     "execution_count": 27,
     "metadata": {},
     "output_type": "execute_result"
    }
   ],
   "source": [
    "np.tril(a)"
   ]
  },
  {
   "cell_type": "code",
   "execution_count": 25,
   "id": "9d91a486-4833-4b2b-9fed-a03bf506740a",
   "metadata": {},
   "outputs": [],
   "source": [
    "###Diagonal Matrix"
   ]
  },
  {
   "cell_type": "code",
   "execution_count": 30,
   "id": "49221d5b-59a3-46f8-ade6-0c0a4369249e",
   "metadata": {},
   "outputs": [
    {
     "data": {
      "text/plain": [
       "array([[1, 0, 0],\n",
       "       [0, 2, 0],\n",
       "       [0, 0, 3]])"
      ]
     },
     "execution_count": 30,
     "metadata": {},
     "output_type": "execute_result"
    }
   ],
   "source": [
    "d = np.array([[1, 0, 0],[0, 2, 0],[0, 0, 3]])\n",
    "d"
   ]
  },
  {
   "cell_type": "code",
   "execution_count": 31,
   "id": "ef73875c-297e-49e3-9259-f764654d1fa4",
   "metadata": {},
   "outputs": [],
   "source": [
    "##Identity Matrix"
   ]
  },
  {
   "cell_type": "code",
   "execution_count": 32,
   "id": "a52ccd0a-e611-46b9-957b-575200cf6065",
   "metadata": {},
   "outputs": [
    {
     "data": {
      "text/plain": [
       "array([[1., 0., 0., 0.],\n",
       "       [0., 1., 0., 0.],\n",
       "       [0., 0., 1., 0.],\n",
       "       [0., 0., 0., 1.]])"
      ]
     },
     "execution_count": 32,
     "metadata": {},
     "output_type": "execute_result"
    }
   ],
   "source": [
    "np.eye(4)"
   ]
  },
  {
   "cell_type": "code",
   "execution_count": 33,
   "id": "fc3e0135-90bb-4926-8a84-973e6a0f11e7",
   "metadata": {},
   "outputs": [],
   "source": [
    "##0peration in Matrix\n"
   ]
  },
  {
   "cell_type": "code",
   "execution_count": 34,
   "id": "2c4f6b5d-96bc-4258-8e34-39cde49e7f65",
   "metadata": {},
   "outputs": [],
   "source": [
    "##Transpose"
   ]
  },
  {
   "cell_type": "code",
   "execution_count": 35,
   "id": "9c418c0f-bc74-4657-ab98-e31513a5fd16",
   "metadata": {},
   "outputs": [
    {
     "data": {
      "text/plain": [
       "array([[54, 51],\n",
       "       [32, 18],\n",
       "       [43, 95],\n",
       "       [64, 22]])"
      ]
     },
     "execution_count": 35,
     "metadata": {},
     "output_type": "execute_result"
    }
   ],
   "source": [
    "a = np.random.randint(10, 100,(4, 2))\n",
    "a                     "
   ]
  },
  {
   "cell_type": "code",
   "execution_count": 36,
   "id": "4708f179-ad7a-46b5-81da-63373a541a48",
   "metadata": {},
   "outputs": [
    {
     "data": {
      "text/plain": [
       "array([[54, 32, 43, 64],\n",
       "       [51, 18, 95, 22]])"
      ]
     },
     "execution_count": 36,
     "metadata": {},
     "output_type": "execute_result"
    }
   ],
   "source": [
    "b = a.T\n",
    "b"
   ]
  },
  {
   "cell_type": "code",
   "execution_count": 38,
   "id": "d341707e-f89c-4cda-be12-0a8c4b296ed0",
   "metadata": {},
   "outputs": [],
   "source": [
    "#Determinant"
   ]
  },
  {
   "cell_type": "code",
   "execution_count": 39,
   "id": "664c6182-2330-4b5e-88d1-2d44a84ffa3f",
   "metadata": {},
   "outputs": [
    {
     "data": {
      "text/plain": [
       "array([[39, 68, 27, 25],\n",
       "       [99, 75, 23, 40],\n",
       "       [75, 75, 99, 30],\n",
       "       [22, 92, 53, 73]])"
      ]
     },
     "execution_count": 39,
     "metadata": {},
     "output_type": "execute_result"
    }
   ],
   "source": [
    "x = np.random.randint(10, 100,(4, 4))\n",
    "x\n",
    "                      "
   ]
  },
  {
   "cell_type": "code",
   "execution_count": 43,
   "id": "fe8f1a67-e03f-4c21-9c45-913d26a8ba50",
   "metadata": {},
   "outputs": [],
   "source": [
    "import numpy as np"
   ]
  },
  {
   "cell_type": "code",
   "execution_count": 44,
   "id": "397953cd-c520-4c5f-891b-5d96ed9b11f9",
   "metadata": {},
   "outputs": [],
   "source": [
    "from numpy.linalg import det"
   ]
  },
  {
   "cell_type": "code",
   "execution_count": 46,
   "id": "699f1d6b-bf34-4ecc-966d-c2f76aca642b",
   "metadata": {},
   "outputs": [
    {
     "data": {
      "text/plain": [
       "-13028453.99999998"
      ]
     },
     "execution_count": 46,
     "metadata": {},
     "output_type": "execute_result"
    }
   ],
   "source": [
    "det(x)"
   ]
  },
  {
   "cell_type": "code",
   "execution_count": 47,
   "id": "d721d8c1-0063-4f2a-81d2-5df1a386aa9d",
   "metadata": {},
   "outputs": [],
   "source": [
    "##Rank of a Matrix"
   ]
  },
  {
   "cell_type": "code",
   "execution_count": 49,
   "id": "0d178cd6-fc96-44c6-891b-19c13d4de638",
   "metadata": {},
   "outputs": [
    {
     "data": {
      "text/plain": [
       "1"
      ]
     },
     "execution_count": 49,
     "metadata": {},
     "output_type": "execute_result"
    }
   ],
   "source": [
    "x = np.array([[1, 2, 3]])\n",
    "np.linalg.matrix_rank(x)"
   ]
  },
  {
   "cell_type": "code",
   "execution_count": 51,
   "id": "22d3d99d-27a5-458f-be68-9d6e2d423866",
   "metadata": {},
   "outputs": [
    {
     "data": {
      "text/plain": [
       "4"
      ]
     },
     "execution_count": 51,
     "metadata": {},
     "output_type": "execute_result"
    }
   ],
   "source": [
    "a = np.random.randint(10, 100,(4, 4))\n",
    "np.linalg.matrix_rank(a)"
   ]
  },
  {
   "cell_type": "code",
   "execution_count": 52,
   "id": "099066cd-5e04-4b1f-87e0-4b416c7dbca6",
   "metadata": {},
   "outputs": [
    {
     "data": {
      "text/plain": [
       "array([[76, 10, 87, 80],\n",
       "       [54, 10, 64, 96],\n",
       "       [44, 38, 39, 44],\n",
       "       [13, 13, 15, 41]])"
      ]
     },
     "execution_count": 52,
     "metadata": {},
     "output_type": "execute_result"
    }
   ],
   "source": [
    "a"
   ]
  },
  {
   "cell_type": "code",
   "execution_count": 58,
   "id": "ce3199bf-063e-412d-88e9-8c62b0d47feb",
   "metadata": {},
   "outputs": [],
   "source": [
    "import numpy as np"
   ]
  },
  {
   "cell_type": "code",
   "execution_count": 59,
   "id": "a71aa53e-c00f-4456-9579-4625da22a13b",
   "metadata": {},
   "outputs": [],
   "source": [
    "from numpy.linalg import det"
   ]
  },
  {
   "cell_type": "code",
   "execution_count": 60,
   "id": "675c7981-40a1-46f5-abd3-931d272a19d1",
   "metadata": {},
   "outputs": [],
   "source": [
    "import numpy.linalg as la\n",
    " "
   ]
  },
  {
   "cell_type": "code",
   "execution_count": 56,
   "id": "f6d1742a-6d84-43cb-b8c4-7fd46a727f99",
   "metadata": {},
   "outputs": [],
   "source": [
    "##Eigen Decomposition"
   ]
  },
  {
   "cell_type": "code",
   "execution_count": 62,
   "id": "b33d01d1-af61-4194-8fa6-c803769a7372",
   "metadata": {},
   "outputs": [
    {
     "data": {
      "text/plain": [
       "array([[1, 2, 3],\n",
       "       [4, 5, 6],\n",
       "       [7, 8, 9]])"
      ]
     },
     "execution_count": 62,
     "metadata": {},
     "output_type": "execute_result"
    }
   ],
   "source": [
    "A = np.array([[1, 2, 3],[4, 5, 6],[7, 8, 9]])\n",
    "A"
   ]
  },
  {
   "cell_type": "code",
   "execution_count": 63,
   "id": "e167dd11-a974-49da-8e2d-c5bfddfe85df",
   "metadata": {},
   "outputs": [
    {
     "data": {
      "text/plain": [
       "(3, 3)"
      ]
     },
     "execution_count": 63,
     "metadata": {},
     "output_type": "execute_result"
    }
   ],
   "source": [
    "A.shape"
   ]
  },
  {
   "cell_type": "code",
   "execution_count": 65,
   "id": "277f44b3-cbcc-4219-b970-1e11bd64429b",
   "metadata": {},
   "outputs": [],
   "source": [
    "eig_values,eig_vectors = np.linalg.eig(A)"
   ]
  },
  {
   "cell_type": "code",
   "execution_count": 66,
   "id": "c89caa67-4474-4022-a8c6-456e68f9a15c",
   "metadata": {},
   "outputs": [
    {
     "data": {
      "text/plain": [
       "array([ 1.61168440e+01, -1.11684397e+00, -4.22209278e-16])"
      ]
     },
     "execution_count": 66,
     "metadata": {},
     "output_type": "execute_result"
    }
   ],
   "source": [
    "eig_values"
   ]
  },
  {
   "cell_type": "code",
   "execution_count": 67,
   "id": "d992734f-9998-4b19-b85a-e7be6fc7b798",
   "metadata": {},
   "outputs": [
    {
     "data": {
      "text/plain": [
       "array([[-0.23197069, -0.78583024,  0.40824829],\n",
       "       [-0.52532209, -0.08675134, -0.81649658],\n",
       "       [-0.8186735 ,  0.61232756,  0.40824829]])"
      ]
     },
     "execution_count": 67,
     "metadata": {},
     "output_type": "execute_result"
    }
   ],
   "source": [
    "eig_vectors"
   ]
  },
  {
   "cell_type": "code",
   "execution_count": 71,
   "id": "062cbf72-4b08-490f-8573-7f5254950047",
   "metadata": {},
   "outputs": [],
   "source": [
    "Q = eig_vectors\n",
    "R = np.linalg.inv(Q)\n",
    "L = np.diag(eig_values)"
   ]
  },
  {
   "cell_type": "code",
   "execution_count": 72,
   "id": "7b41fca5-5e39-4763-baf2-2292164a39fc",
   "metadata": {},
   "outputs": [
    {
     "name": "stdout",
     "output_type": "stream",
     "text": [
      "[[1. 2. 3.]\n",
      " [4. 5. 6.]\n",
      " [7. 8. 9.]]\n"
     ]
    }
   ],
   "source": [
    "B = Q.dot(L).dot(R)\n",
    "print(B)"
   ]
  },
  {
   "cell_type": "code",
   "execution_count": 73,
   "id": "e8c35ef7-85b8-4ad7-a7b4-c85a5b00fedf",
   "metadata": {},
   "outputs": [
    {
     "data": {
      "text/plain": [
       "array([[1, 2, 3],\n",
       "       [4, 5, 6],\n",
       "       [7, 8, 9]])"
      ]
     },
     "execution_count": 73,
     "metadata": {},
     "output_type": "execute_result"
    }
   ],
   "source": [
    "A"
   ]
  },
  {
   "cell_type": "code",
   "execution_count": null,
   "id": "eaccb881-71d0-4915-be04-90a4ab000862",
   "metadata": {},
   "outputs": [],
   "source": [
    "##Dimension Reduction "
   ]
  },
  {
   "cell_type": "code",
   "execution_count": 74,
   "id": "465eff10-534e-4aed-9890-8f44eaf891aa",
   "metadata": {},
   "outputs": [],
   "source": [
    "##Page Rank Algorithm in Python"
   ]
  },
  {
   "cell_type": "code",
   "execution_count": 77,
   "id": "730109b1-c54e-491b-98bf-eaefc2539a17",
   "metadata": {},
   "outputs": [],
   "source": [
    "import numpy as np\n",
    "import numpy.linalg as la"
   ]
  },
  {
   "cell_type": "code",
   "execution_count": null,
   "id": "e0304e12-8dd8-41d9-a1d0-743da6861fbf",
   "metadata": {},
   "outputs": [],
   "source": [
    "L = np.array([[0, 1/2, 0, 0],[1/3, 0, 0, 1/2],[1/3, 1/2, 1, 0]])"
   ]
  },
  {
   "cell_type": "code",
   "execution_count": 78,
   "id": "8c995c7b-7f25-4b41-a096-f6fc94d16ed8",
   "metadata": {},
   "outputs": [
    {
     "data": {
      "text/plain": [
       "array([25., 25., 25., 25.])"
      ]
     },
     "execution_count": 78,
     "metadata": {},
     "output_type": "execute_result"
    }
   ],
   "source": [
    "#Lets set up the initial vector r, \n",
    "r = 100*np.ones(4)/4  #this will set the vector with 4 entries of 1/4 x 100 each\n",
    "r #Display r value"
   ]
  },
  {
   "cell_type": "code",
   "execution_count": null,
   "id": "acdd4bee-ad79-4861-b32f-397df0567b05",
   "metadata": {},
   "outputs": [],
   "source": [
    "#Preparation of SVD in Python "
   ]
  },
  {
   "cell_type": "code",
   "execution_count": 87,
   "id": "b40993ef-7440-4cb2-aa13-b73f85b1024b",
   "metadata": {},
   "outputs": [],
   "source": [
    "import numpy as np\n",
    "import matplotlib.pyplot as plt\n",
    "import seaborn as sns"
   ]
  },
  {
   "cell_type": "code",
   "execution_count": null,
   "id": "291194ff-723f-49fb-8ed5-c44d1f588b0f",
   "metadata": {},
   "outputs": [],
   "source": [
    "def plotVec(vec, col, alpha = 1):"
   ]
  },
  {
   "cell_type": "code",
   "execution_count": null,
   "id": "04931f6d-fff0-4d07-8cbe-0b4eacedbbf8",
   "metadata": {},
   "outputs": [],
   "source": []
  }
 ],
 "metadata": {
  "kernelspec": {
   "display_name": "Python 3 (ipykernel)",
   "language": "python",
   "name": "python3"
  },
  "language_info": {
   "codemirror_mode": {
    "name": "ipython",
    "version": 3
   },
   "file_extension": ".py",
   "mimetype": "text/x-python",
   "name": "python",
   "nbconvert_exporter": "python",
   "pygments_lexer": "ipython3",
   "version": "3.12.4"
  }
 },
 "nbformat": 4,
 "nbformat_minor": 5
}
